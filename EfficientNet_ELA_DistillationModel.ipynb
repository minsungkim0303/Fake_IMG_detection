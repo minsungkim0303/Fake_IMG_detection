{
  "nbformat": 4,
  "nbformat_minor": 0,
  "metadata": {
    "accelerator": "GPU",
    "colab": {
      "name": "EfficientNet_ELA_DistillationModel.ipynb",
      "provenance": [],
      "collapsed_sections": [],
      "toc_visible": true,
      "machine_shape": "hm"
    },
    "kernelspec": {
      "display_name": "Python 3",
      "name": "python3"
    }
  },
  "cells": [
    {
      "cell_type": "markdown",
      "metadata": {
        "id": "orO0YOGQcDHc"
      },
      "source": [
        "**Fake detection model using EfficientNet with ELA \n",
        "and it's Distillation Model **\n"
      ]
    },
    {
      "cell_type": "code",
      "metadata": {
        "id": "JXXhIabohaj_",
        "colab": {
          "base_uri": "https://localhost:8080/"
        },
        "outputId": "e2ae9d94-ceb3-483f-fced-cfd05fc90783"
      },
      "source": [
        "from google.colab import drive\n",
        "drive.mount('/content/drive')"
      ],
      "execution_count": null,
      "outputs": [
        {
          "output_type": "stream",
          "text": [
            "Drive already mounted at /content/drive; to attempt to forcibly remount, call drive.mount(\"/content/drive\", force_remount=True).\n"
          ],
          "name": "stdout"
        }
      ]
    },
    {
      "cell_type": "markdown",
      "metadata": {
        "id": "Yfjn5mTc9cwE"
      },
      "source": [
        "# New Section"
      ]
    },
    {
      "cell_type": "code",
      "metadata": {
        "colab": {
          "base_uri": "https://localhost:8080/"
        },
        "id": "iJXNxySzPgtZ",
        "outputId": "4e20b85a-2383-47db-ddba-332367a922f1"
      },
      "source": [
        "pip install opencv-python"
      ],
      "execution_count": null,
      "outputs": [
        {
          "output_type": "stream",
          "text": [
            "Requirement already satisfied: opencv-python in /usr/local/lib/python3.7/dist-packages (4.1.2.30)\n",
            "Requirement already satisfied: numpy>=1.14.5 in /usr/local/lib/python3.7/dist-packages (from opencv-python) (1.19.5)\n"
          ],
          "name": "stdout"
        }
      ]
    },
    {
      "cell_type": "code",
      "metadata": {
        "id": "SFodhmULR8hW"
      },
      "source": [
        "import os, re, glob\n",
        "import cv2\n",
        "import numpy as np\n",
        "from sklearn.model_selection import train_test_split\n",
        "from keras.callbacks import ModelCheckpoint,EarlyStopping\n",
        "import os\n",
        "import datetime\n",
        "from keras import optimizers\n",
        "from keras.models import Sequential\n",
        "from keras.layers import Dropout, Activation, Dense\n",
        "from keras.layers import Flatten, Convolution2D, MaxPooling2D\n",
        "from keras.models import load_model\n",
        "from tensorflow.keras.applications import EfficientNetB0\n",
        "from PIL import Image, ImageChops, ImageEnhance\n",
        "from PIL.ImageOps import autocontrast,colorize,equalize \n",
        "from matplotlib import pyplot as plt"
      ],
      "execution_count": null,
      "outputs": []
    },
    {
      "cell_type": "code",
      "metadata": {
        "id": "Yca_E-MQ5KQF"
      },
      "source": [
        "# Preprocessing for ELA and nomalization\n",
        "def chImgType(path, quality):\n",
        "    tmp = 'tmp.jpg'\n",
        "    \n",
        "    img = Image.open(path).convert('RGB')\n",
        "    img.save(tmp, 'JPEG', quality = quality)\n",
        "    tmpImg = Image.open(tmp)\n",
        "    \n",
        "    diffImg = ImageChops.difference(img, tmpImg)\n",
        "    \n",
        "    outImg = autocontrast(diffImg)\n",
        "    outImg = equalize(outImg, mask = None) \n",
        "    return outImg"
      ],
      "execution_count": null,
      "outputs": []
    },
    {
      "cell_type": "code",
      "metadata": {
        "id": "DGBtXnR5-YYm"
      },
      "source": [
        "image_size = (224, 224)\n",
        "def processing_image(image_path):\n",
        "    return np.array(chImgType(image_path, 90).resize(image_size)) / 255.0"
      ],
      "execution_count": null,
      "outputs": []
    },
    {
      "cell_type": "code",
      "metadata": {
        "colab": {
          "base_uri": "https://localhost:8080/"
        },
        "id": "U41asfi0d4TX",
        "outputId": "fc4f4e29-840c-480f-ea94-aa5ce82bfc98"
      },
      "source": [
        "import cv2\n",
        "\n",
        "groups_folder_path = './drive/MyDrive/CASIA2/'\n",
        "categories = [\"Au\",\"Tp\"]\n",
        "num_classes = len(categories)\n",
        "\n",
        "X = []\n",
        "Y = []\n",
        "  \n",
        "for idex, categorie in enumerate(categories):\n",
        "    label = [0 for i in range(num_classes)]\n",
        "    label[idex] = 1\n",
        "    image_dir = groups_folder_path + categorie + '/'\n",
        "  \n",
        "    for top, dir, f in os.walk(image_dir):\n",
        "        for filename in f:\n",
        "            try:\n",
        "                img = processing_image(image_dir+filename)\n",
        "                X.append(img)\n",
        "                Y.append(label)\n",
        "            except Exception as e:\n",
        "              print(e)\n",
        "              print(image_dir+filename)\n",
        " \n",
        "X = np.array(X)\n",
        "Y = np.array(Y)"
      ],
      "execution_count": null,
      "outputs": [
        {
          "output_type": "stream",
          "text": [
            "cannot identify image file './drive/MyDrive/CASIA2/Au/Thumbs.db'\n",
            "./drive/MyDrive/CASIA2/Au/Thumbs.db\n"
          ],
          "name": "stdout"
        }
      ]
    },
    {
      "cell_type": "code",
      "metadata": {
        "id": "vtgfz2EZetDT"
      },
      "source": [
        "X_train, X_test, Y_train, Y_test = train_test_split(X,Y,  test_size=0.1 )"
      ],
      "execution_count": null,
      "outputs": []
    },
    {
      "cell_type": "code",
      "metadata": {
        "id": "CG1uXPEL7-k1"
      },
      "source": [
        "from tensorflow.keras.applications import EfficientNetB0"
      ],
      "execution_count": null,
      "outputs": []
    },
    {
      "cell_type": "code",
      "metadata": {
        "id": "VFp61eXZiukr"
      },
      "source": [
        "# Teacher Model (EfficientNet)\n",
        "\n",
        "effnet = EfficientNetB0(\n",
        "    include_top=False,\n",
        "    # weights=None,\n",
        "    weights='imagenet',\n",
        "    input_shape=(224,224,3),\n",
        "    classes=2,\n",
        "    classifier_activation=\"softmax\",\n",
        ")\n",
        "model = Sequential()\n",
        "model.add(effnet)\n",
        "model.add(Flatten())\n",
        "model.add(Dense(256, activation = 'relu'))\n",
        "model.add(Dropout(0.5))\n",
        "model.add(Dense(num_classes,activation = 'softmax'))"
      ],
      "execution_count": null,
      "outputs": []
    },
    {
      "cell_type": "code",
      "metadata": {
        "colab": {
          "base_uri": "https://localhost:8080/"
        },
        "id": "ajkklioPdjuH",
        "outputId": "ad9f4bb6-84c8-4907-9543-e9aedaea1400"
      },
      "source": [
        "model.summary()"
      ],
      "execution_count": null,
      "outputs": [
        {
          "output_type": "stream",
          "text": [
            "Model: \"sequential_1\"\n",
            "_________________________________________________________________\n",
            "Layer (type)                 Output Shape              Param #   \n",
            "=================================================================\n",
            "efficientnetb0 (Functional)  (None, 7, 7, 1280)        4049571   \n",
            "_________________________________________________________________\n",
            "flatten_1 (Flatten)          (None, 62720)             0         \n",
            "_________________________________________________________________\n",
            "dense_2 (Dense)              (None, 256)               16056576  \n",
            "_________________________________________________________________\n",
            "dropout_1 (Dropout)          (None, 256)               0         \n",
            "_________________________________________________________________\n",
            "dense_3 (Dense)              (None, 2)                 514       \n",
            "=================================================================\n",
            "Total params: 20,106,661\n",
            "Trainable params: 20,064,638\n",
            "Non-trainable params: 42,023\n",
            "_________________________________________________________________\n"
          ],
          "name": "stdout"
        }
      ]
    },
    {
      "cell_type": "code",
      "metadata": {
        "colab": {
          "base_uri": "https://localhost:8080/"
        },
        "id": "UXRu66gdej12",
        "outputId": "4248440e-842b-452a-dca2-a36ba095d8cc"
      },
      "source": [
        "epochs= 100\n",
        "model.compile(loss='binary_crossentropy',optimizer=optimizers.Adam(lr=0.0001, beta_1=0.9, beta_2=0.999, epsilon=None, decay=0.0001/epochs, amsgrad=False),metrics=['accuracy','AUC'])\n",
        "checkpointer = ModelCheckpoint(filepath=\"./\", monitor='loss', verbose=1, save_best_only=True)\n",
        "early_stopping_callback = EarlyStopping(monitor='loss', patience=100)\n",
        " \n",
        "history = model.fit(X_train, Y_train, validation_split=0.1, epochs=epochs, batch_size=32, verbose=1, callbacks=[early_stopping_callback,checkpointer])\n",
        "\n",
        "!mkdir -p saved_model\n",
        "model.save('saved_model/EfficientNetB0.h5')"
      ],
      "execution_count": null,
      "outputs": [
        {
          "output_type": "stream",
          "text": [
            "Epoch 1/100\n",
            " 2/52 [>.............................] - ETA: 3s - loss: 2.0163e-07 - accuracy: 1.0000 - auc: 1.0000WARNING:tensorflow:Callbacks method `on_train_batch_end` is slow compared to the batch time (batch time: 0.0465s vs `on_train_batch_end` time: 0.1061s). Check your callbacks.\n",
            "51/52 [============================>.] - ETA: 0s - loss: 0.0095 - accuracy: 0.9994 - auc: 0.9994\n",
            "Epoch 00001: loss improved from inf to 0.00947, saving model to ./\n",
            "INFO:tensorflow:Assets written to: ./assets\n",
            "52/52 [==============================] - 41s 792ms/step - loss: 0.0095 - accuracy: 0.9994 - auc: 0.9994 - val_loss: 1.8417 - val_accuracy: 0.8626 - val_auc: 0.8769\n",
            "Epoch 2/100\n",
            "51/52 [============================>.] - ETA: 0s - loss: 0.0094 - accuracy: 0.9994 - auc: 0.9994\n",
            "Epoch 00002: loss improved from 0.00947 to 0.00944, saving model to ./\n",
            "INFO:tensorflow:Assets written to: ./assets\n",
            "52/52 [==============================] - 39s 753ms/step - loss: 0.0094 - accuracy: 0.9994 - auc: 0.9994 - val_loss: 1.2975 - val_accuracy: 0.8626 - val_auc: 0.8835\n",
            "Epoch 3/100\n",
            "51/52 [============================>.] - ETA: 0s - loss: 0.0109 - accuracy: 0.9988 - auc: 0.9994\n",
            "Epoch 00003: loss did not improve from 0.00944\n",
            "52/52 [==============================] - 8s 149ms/step - loss: 0.0109 - accuracy: 0.9988 - auc: 0.9994 - val_loss: 2.1911 - val_accuracy: 0.8571 - val_auc: 0.8564\n",
            "Epoch 4/100\n",
            "51/52 [============================>.] - ETA: 0s - loss: 0.0311 - accuracy: 0.9969 - auc: 0.9981\n",
            "Epoch 00004: loss did not improve from 0.00944\n",
            "52/52 [==============================] - 8s 148ms/step - loss: 0.0311 - accuracy: 0.9969 - auc: 0.9982 - val_loss: 1.9529 - val_accuracy: 0.8516 - val_auc: 0.8610\n",
            "Epoch 5/100\n",
            "51/52 [============================>.] - ETA: 0s - loss: 0.0273 - accuracy: 0.9969 - auc: 0.9982\n",
            "Epoch 00005: loss did not improve from 0.00944\n",
            "52/52 [==============================] - 8s 148ms/step - loss: 0.0366 - accuracy: 0.9963 - auc: 0.9975 - val_loss: 1.8185 - val_accuracy: 0.8626 - val_auc: 0.8659\n",
            "Epoch 6/100\n",
            "51/52 [============================>.] - ETA: 0s - loss: 0.0361 - accuracy: 0.9969 - auc: 0.9975\n",
            "Epoch 00006: loss did not improve from 0.00944\n",
            "52/52 [==============================] - 8s 148ms/step - loss: 0.0361 - accuracy: 0.9969 - auc: 0.9975 - val_loss: 2.0507 - val_accuracy: 0.8571 - val_auc: 0.8571\n",
            "Epoch 7/100\n",
            "51/52 [============================>.] - ETA: 0s - loss: 0.0320 - accuracy: 0.9975 - auc: 0.9975\n",
            "Epoch 00007: loss did not improve from 0.00944\n",
            "52/52 [==============================] - 8s 147ms/step - loss: 0.0320 - accuracy: 0.9976 - auc: 0.9975 - val_loss: 1.9760 - val_accuracy: 0.8571 - val_auc: 0.8666\n",
            "Epoch 8/100\n",
            "51/52 [============================>.] - ETA: 0s - loss: 0.0248 - accuracy: 0.9982 - auc: 0.9982\n",
            "Epoch 00008: loss did not improve from 0.00944\n",
            "52/52 [==============================] - 8s 149ms/step - loss: 0.0248 - accuracy: 0.9982 - auc: 0.9982 - val_loss: 1.9133 - val_accuracy: 0.8571 - val_auc: 0.8603\n",
            "Epoch 9/100\n",
            "51/52 [============================>.] - ETA: 0s - loss: 0.0374 - accuracy: 0.9957 - auc: 0.9975\n",
            "Epoch 00009: loss did not improve from 0.00944\n",
            "52/52 [==============================] - 8s 149ms/step - loss: 0.0373 - accuracy: 0.9957 - auc: 0.9975 - val_loss: 2.0447 - val_accuracy: 0.8571 - val_auc: 0.8619\n",
            "Epoch 10/100\n",
            "51/52 [============================>.] - ETA: 0s - loss: 0.0194 - accuracy: 0.9982 - auc: 0.9988\n",
            "Epoch 00010: loss did not improve from 0.00944\n",
            "52/52 [==============================] - 8s 148ms/step - loss: 0.0194 - accuracy: 0.9982 - auc: 0.9988 - val_loss: 1.6358 - val_accuracy: 0.8626 - val_auc: 0.8784\n",
            "Epoch 11/100\n",
            "51/52 [============================>.] - ETA: 0s - loss: 0.0217 - accuracy: 0.9969 - auc: 0.9988\n",
            "Epoch 00011: loss did not improve from 0.00944\n",
            "52/52 [==============================] - 8s 150ms/step - loss: 0.0217 - accuracy: 0.9969 - auc: 0.9988 - val_loss: 0.9201 - val_accuracy: 0.8901 - val_auc: 0.9179\n",
            "Epoch 12/100\n",
            "51/52 [============================>.] - ETA: 0s - loss: 0.0094 - accuracy: 0.9994 - auc: 0.9994\n",
            "Epoch 00012: loss improved from 0.00944 to 0.00940, saving model to ./\n",
            "INFO:tensorflow:Assets written to: ./assets\n",
            "52/52 [==============================] - 36s 692ms/step - loss: 0.0094 - accuracy: 0.9994 - auc: 0.9994 - val_loss: 1.3629 - val_accuracy: 0.8791 - val_auc: 0.8910\n",
            "Epoch 13/100\n",
            "51/52 [============================>.] - ETA: 0s - loss: 0.0098 - accuracy: 0.9994 - auc: 0.9994\n",
            "Epoch 00013: loss did not improve from 0.00940\n",
            "52/52 [==============================] - 8s 149ms/step - loss: 0.0098 - accuracy: 0.9994 - auc: 0.9994 - val_loss: 1.4793 - val_accuracy: 0.8846 - val_auc: 0.8925\n",
            "Epoch 14/100\n",
            "51/52 [============================>.] - ETA: 0s - loss: 0.0094 - accuracy: 0.9994 - auc: 0.9994\n",
            "Epoch 00014: loss improved from 0.00940 to 0.00939, saving model to ./\n",
            "INFO:tensorflow:Assets written to: ./assets\n",
            "52/52 [==============================] - 39s 759ms/step - loss: 0.0094 - accuracy: 0.9994 - auc: 0.9994 - val_loss: 1.3426 - val_accuracy: 0.8681 - val_auc: 0.9015\n",
            "Epoch 15/100\n",
            "51/52 [============================>.] - ETA: 0s - loss: 0.0131 - accuracy: 0.9982 - auc: 0.9994\n",
            "Epoch 00015: loss did not improve from 0.00939\n",
            "52/52 [==============================] - 8s 147ms/step - loss: 0.0131 - accuracy: 0.9982 - auc: 0.9994 - val_loss: 1.9315 - val_accuracy: 0.8571 - val_auc: 0.8610\n",
            "Epoch 16/100\n",
            "51/52 [============================>.] - ETA: 0s - loss: 0.0094 - accuracy: 0.9994 - auc: 0.9994\n",
            "Epoch 00016: loss did not improve from 0.00939\n",
            "52/52 [==============================] - 8s 149ms/step - loss: 0.0094 - accuracy: 0.9994 - auc: 0.9994 - val_loss: 1.2849 - val_accuracy: 0.8901 - val_auc: 0.9007\n",
            "Epoch 17/100\n",
            "51/52 [============================>.] - ETA: 0s - loss: 0.0129 - accuracy: 0.9988 - auc: 0.9988\n",
            "Epoch 00017: loss did not improve from 0.00939\n",
            "52/52 [==============================] - 8s 146ms/step - loss: 0.0129 - accuracy: 0.9988 - auc: 0.9988 - val_loss: 1.9245 - val_accuracy: 0.8516 - val_auc: 0.8654\n",
            "Epoch 18/100\n",
            "51/52 [============================>.] - ETA: 0s - loss: 0.0059 - accuracy: 0.9988 - auc: 0.9994\n",
            "Epoch 00018: loss improved from 0.00939 to 0.00590, saving model to ./\n",
            "INFO:tensorflow:Assets written to: ./assets\n",
            "52/52 [==============================] - 39s 753ms/step - loss: 0.0059 - accuracy: 0.9988 - auc: 0.9994 - val_loss: 2.1910 - val_accuracy: 0.8571 - val_auc: 0.8571\n",
            "Epoch 19/100\n",
            "51/52 [============================>.] - ETA: 0s - loss: 0.0248 - accuracy: 0.9975 - auc: 0.9981\n",
            "Epoch 00019: loss did not improve from 0.00590\n",
            "52/52 [==============================] - 8s 148ms/step - loss: 0.0248 - accuracy: 0.9976 - auc: 0.9981 - val_loss: 1.5341 - val_accuracy: 0.8791 - val_auc: 0.8868\n",
            "Epoch 20/100\n",
            "51/52 [============================>.] - ETA: 0s - loss: 0.0095 - accuracy: 0.9988 - auc: 0.9994\n",
            "Epoch 00020: loss did not improve from 0.00590\n",
            "52/52 [==============================] - 8s 147ms/step - loss: 0.0095 - accuracy: 0.9988 - auc: 0.9994 - val_loss: 1.5834 - val_accuracy: 0.8516 - val_auc: 0.8752\n",
            "Epoch 21/100\n",
            "51/52 [============================>.] - ETA: 0s - loss: 0.0094 - accuracy: 0.9994 - auc: 0.9994\n",
            "Epoch 00021: loss did not improve from 0.00590\n",
            "52/52 [==============================] - 8s 150ms/step - loss: 0.0188 - accuracy: 0.9988 - auc: 0.9988 - val_loss: 1.4624 - val_accuracy: 0.8626 - val_auc: 0.8840\n",
            "Epoch 22/100\n",
            "51/52 [============================>.] - ETA: 0s - loss: 0.0071 - accuracy: 0.9994 - auc: 0.9994\n",
            "Epoch 00022: loss did not improve from 0.00590\n",
            "52/52 [==============================] - 8s 146ms/step - loss: 0.0070 - accuracy: 0.9994 - auc: 0.9994 - val_loss: 2.0359 - val_accuracy: 0.7747 - val_auc: 0.8228\n",
            "Epoch 23/100\n",
            "51/52 [============================>.] - ETA: 0s - loss: 0.0094 - accuracy: 0.9988 - auc: 0.9994\n",
            "Epoch 00023: loss did not improve from 0.00590\n",
            "52/52 [==============================] - 8s 149ms/step - loss: 0.0188 - accuracy: 0.9982 - auc: 0.9988 - val_loss: 1.2193 - val_accuracy: 0.8901 - val_auc: 0.9098\n",
            "Epoch 24/100\n",
            "51/52 [============================>.] - ETA: 0s - loss: 2.5174e-04 - accuracy: 1.0000 - auc: 1.0000\n",
            "Epoch 00024: loss improved from 0.00590 to 0.00025, saving model to ./\n",
            "INFO:tensorflow:Assets written to: ./assets\n",
            "52/52 [==============================] - 36s 688ms/step - loss: 2.5158e-04 - accuracy: 1.0000 - auc: 1.0000 - val_loss: 1.3928 - val_accuracy: 0.8791 - val_auc: 0.8897\n",
            "Epoch 25/100\n",
            "51/52 [============================>.] - ETA: 0s - loss: 6.3593e-05 - accuracy: 1.0000 - auc: 1.0000\n",
            "Epoch 00025: loss did not improve from 0.00025\n",
            "52/52 [==============================] - 8s 149ms/step - loss: 0.0095 - accuracy: 0.9994 - auc: 0.9994 - val_loss: 1.3083 - val_accuracy: 0.8901 - val_auc: 0.9068\n",
            "Epoch 26/100\n",
            "51/52 [============================>.] - ETA: 0s - loss: 0.0019 - accuracy: 0.9994 - auc: 1.0000\n",
            "Epoch 00026: loss did not improve from 0.00025\n",
            "52/52 [==============================] - 8s 148ms/step - loss: 0.0019 - accuracy: 0.9994 - auc: 1.0000 - val_loss: 1.8823 - val_accuracy: 0.8571 - val_auc: 0.8603\n",
            "Epoch 27/100\n",
            "51/52 [============================>.] - ETA: 0s - loss: 5.8121e-05 - accuracy: 1.0000 - auc: 1.0000\n",
            "Epoch 00027: loss improved from 0.00025 to 0.00006, saving model to ./\n",
            "INFO:tensorflow:Assets written to: ./assets\n",
            "52/52 [==============================] - 40s 771ms/step - loss: 5.8085e-05 - accuracy: 1.0000 - auc: 1.0000 - val_loss: 1.3014 - val_accuracy: 0.8462 - val_auc: 0.8903\n",
            "Epoch 28/100\n",
            "51/52 [============================>.] - ETA: 0s - loss: 4.8629e-06 - accuracy: 1.0000 - auc: 1.0000\n",
            "Epoch 00028: loss improved from 0.00006 to 0.00000, saving model to ./\n",
            "INFO:tensorflow:Assets written to: ./assets\n",
            "52/52 [==============================] - 40s 769ms/step - loss: 4.8599e-06 - accuracy: 1.0000 - auc: 1.0000 - val_loss: 1.3222 - val_accuracy: 0.8571 - val_auc: 0.8786\n",
            "Epoch 29/100\n",
            "51/52 [============================>.] - ETA: 0s - loss: 3.9132e-06 - accuracy: 1.0000 - auc: 1.0000\n",
            "Epoch 00029: loss improved from 0.00000 to 0.00000, saving model to ./\n",
            "INFO:tensorflow:Assets written to: ./assets\n",
            "52/52 [==============================] - 36s 698ms/step - loss: 3.9108e-06 - accuracy: 1.0000 - auc: 1.0000 - val_loss: 1.4132 - val_accuracy: 0.8791 - val_auc: 0.8883\n",
            "Epoch 30/100\n",
            "51/52 [============================>.] - ETA: 0s - loss: 5.3470e-08 - accuracy: 1.0000 - auc: 1.0000\n",
            "Epoch 00030: loss improved from 0.00000 to 0.00000, saving model to ./\n",
            "INFO:tensorflow:Assets written to: ./assets\n",
            "52/52 [==============================] - 41s 795ms/step - loss: 5.3437e-08 - accuracy: 1.0000 - auc: 1.0000 - val_loss: 1.2708 - val_accuracy: 0.8901 - val_auc: 0.9028\n",
            "Epoch 31/100\n",
            "51/52 [============================>.] - ETA: 0s - loss: 2.2903e-07 - accuracy: 1.0000 - auc: 1.0000\n",
            "Epoch 00031: loss did not improve from 0.00000\n",
            "52/52 [==============================] - 8s 149ms/step - loss: 2.2889e-07 - accuracy: 1.0000 - auc: 1.0000 - val_loss: 1.1926 - val_accuracy: 0.9011 - val_auc: 0.9142\n",
            "Epoch 32/100\n",
            "51/52 [============================>.] - ETA: 0s - loss: 3.5104e-05 - accuracy: 1.0000 - auc: 1.0000\n",
            "Epoch 00032: loss did not improve from 0.00000\n",
            "52/52 [==============================] - 8s 148ms/step - loss: 0.0087 - accuracy: 0.9994 - auc: 0.9994 - val_loss: 1.2728 - val_accuracy: 0.8736 - val_auc: 0.8958\n",
            "Epoch 33/100\n",
            "51/52 [============================>.] - ETA: 0s - loss: 0.0244 - accuracy: 0.9951 - auc: 0.9981\n",
            "Epoch 00033: loss did not improve from 0.00000\n",
            "52/52 [==============================] - 8s 149ms/step - loss: 0.0244 - accuracy: 0.9951 - auc: 0.9981 - val_loss: 2.1911 - val_accuracy: 0.8571 - val_auc: 0.8571\n",
            "Epoch 34/100\n",
            "51/52 [============================>.] - ETA: 0s - loss: 0.0193 - accuracy: 0.9969 - auc: 0.9982\n",
            "Epoch 00034: loss did not improve from 0.00000\n",
            "52/52 [==============================] - 8s 149ms/step - loss: 0.0193 - accuracy: 0.9969 - auc: 0.9982 - val_loss: 2.7647 - val_accuracy: 0.5824 - val_auc: 0.6258\n",
            "Epoch 35/100\n",
            "51/52 [============================>.] - ETA: 0s - loss: 0.0247 - accuracy: 0.9957 - auc: 0.9982\n",
            "Epoch 00035: loss did not improve from 0.00000\n",
            "52/52 [==============================] - 8s 149ms/step - loss: 0.0247 - accuracy: 0.9957 - auc: 0.9982 - val_loss: 1.9218 - val_accuracy: 0.8407 - val_auc: 0.8575\n",
            "Epoch 36/100\n",
            "51/52 [============================>.] - ETA: 0s - loss: 0.0061 - accuracy: 0.9988 - auc: 1.0000\n",
            "Epoch 00036: loss did not improve from 0.00000\n",
            "52/52 [==============================] - 8s 148ms/step - loss: 0.0061 - accuracy: 0.9988 - auc: 1.0000 - val_loss: 1.1630 - val_accuracy: 0.8626 - val_auc: 0.8982\n",
            "Epoch 37/100\n",
            "51/52 [============================>.] - ETA: 0s - loss: 7.3101e-06 - accuracy: 1.0000 - auc: 1.0000\n",
            "Epoch 00037: loss did not improve from 0.00000\n",
            "52/52 [==============================] - 8s 148ms/step - loss: 7.3057e-06 - accuracy: 1.0000 - auc: 1.0000 - val_loss: 0.9895 - val_accuracy: 0.8736 - val_auc: 0.9095\n",
            "Epoch 38/100\n",
            "51/52 [============================>.] - ETA: 0s - loss: 0.0136 - accuracy: 0.9982 - auc: 0.9994\n",
            "Epoch 00038: loss did not improve from 0.00000\n",
            "52/52 [==============================] - 8s 148ms/step - loss: 0.0135 - accuracy: 0.9982 - auc: 0.9994 - val_loss: 1.1062 - val_accuracy: 0.8791 - val_auc: 0.9095\n",
            "Epoch 39/100\n",
            "51/52 [============================>.] - ETA: 0s - loss: 0.0107 - accuracy: 0.9988 - auc: 0.9994\n",
            "Epoch 00039: loss did not improve from 0.00000\n",
            "52/52 [==============================] - 8s 146ms/step - loss: 0.0107 - accuracy: 0.9988 - auc: 0.9994 - val_loss: 1.1071 - val_accuracy: 0.9066 - val_auc: 0.9219\n",
            "Epoch 40/100\n",
            "51/52 [============================>.] - ETA: 0s - loss: 0.0068 - accuracy: 0.9994 - auc: 0.9994\n",
            "Epoch 00040: loss did not improve from 0.00000\n",
            "52/52 [==============================] - 8s 148ms/step - loss: 0.0068 - accuracy: 0.9994 - auc: 0.9994 - val_loss: 1.1870 - val_accuracy: 0.8901 - val_auc: 0.9125\n",
            "Epoch 41/100\n",
            "51/52 [============================>.] - ETA: 0s - loss: 2.8853e-04 - accuracy: 1.0000 - auc: 1.0000\n",
            "Epoch 00041: loss did not improve from 0.00000\n",
            "52/52 [==============================] - 8s 148ms/step - loss: 2.8835e-04 - accuracy: 1.0000 - auc: 1.0000 - val_loss: 1.2033 - val_accuracy: 0.8791 - val_auc: 0.9109\n",
            "Epoch 42/100\n",
            "51/52 [============================>.] - ETA: 0s - loss: 0.0039 - accuracy: 0.9988 - auc: 1.0000\n",
            "Epoch 00042: loss did not improve from 0.00000\n",
            "52/52 [==============================] - 8s 149ms/step - loss: 0.0039 - accuracy: 0.9988 - auc: 1.0000 - val_loss: 1.5525 - val_accuracy: 0.8846 - val_auc: 0.8865\n",
            "Epoch 43/100\n",
            "51/52 [============================>.] - ETA: 0s - loss: 0.0131 - accuracy: 0.9988 - auc: 0.9988\n",
            "Epoch 00043: loss did not improve from 0.00000\n",
            "52/52 [==============================] - 8s 146ms/step - loss: 0.0131 - accuracy: 0.9988 - auc: 0.9988 - val_loss: 1.4032 - val_accuracy: 0.8846 - val_auc: 0.8898\n",
            "Epoch 44/100\n",
            "51/52 [============================>.] - ETA: 0s - loss: 2.0871e-05 - accuracy: 1.0000 - auc: 1.0000\n",
            "Epoch 00044: loss did not improve from 0.00000\n",
            "52/52 [==============================] - 8s 148ms/step - loss: 2.0858e-05 - accuracy: 1.0000 - auc: 1.0000 - val_loss: 1.2045 - val_accuracy: 0.8901 - val_auc: 0.9073\n",
            "Epoch 45/100\n",
            "51/52 [============================>.] - ETA: 0s - loss: 0.0058 - accuracy: 0.9982 - auc: 1.0000\n",
            "Epoch 00045: loss did not improve from 0.00000\n",
            "52/52 [==============================] - 8s 148ms/step - loss: 0.0058 - accuracy: 0.9982 - auc: 1.0000 - val_loss: 1.2760 - val_accuracy: 0.8681 - val_auc: 0.8987\n",
            "Epoch 46/100\n",
            "51/52 [============================>.] - ETA: 0s - loss: 2.2808e-08 - accuracy: 1.0000 - auc: 1.0000\n",
            "Epoch 00046: loss improved from 0.00000 to 0.00000, saving model to ./\n",
            "INFO:tensorflow:Assets written to: ./assets\n",
            "52/52 [==============================] - 40s 768ms/step - loss: 2.2794e-08 - accuracy: 1.0000 - auc: 1.0000 - val_loss: 1.1979 - val_accuracy: 0.8846 - val_auc: 0.9064\n",
            "Epoch 47/100\n",
            "51/52 [============================>.] - ETA: 0s - loss: 1.3942e-04 - accuracy: 1.0000 - auc: 1.0000\n",
            "Epoch 00047: loss did not improve from 0.00000\n",
            "52/52 [==============================] - 8s 149ms/step - loss: 1.3933e-04 - accuracy: 1.0000 - auc: 1.0000 - val_loss: 1.2343 - val_accuracy: 0.9066 - val_auc: 0.9086\n",
            "Epoch 48/100\n",
            "51/52 [============================>.] - ETA: 0s - loss: 0.0018 - accuracy: 0.9994 - auc: 1.0000\n",
            "Epoch 00048: loss did not improve from 0.00000\n",
            "52/52 [==============================] - 8s 146ms/step - loss: 0.0018 - accuracy: 0.9994 - auc: 1.0000 - val_loss: 1.4028 - val_accuracy: 0.8956 - val_auc: 0.9069\n",
            "Epoch 49/100\n",
            "51/52 [============================>.] - ETA: 0s - loss: 0.0027 - accuracy: 0.9988 - auc: 1.0000\n",
            "Epoch 00049: loss did not improve from 0.00000\n",
            "52/52 [==============================] - 8s 148ms/step - loss: 0.0027 - accuracy: 0.9988 - auc: 1.0000 - val_loss: 1.3594 - val_accuracy: 0.8901 - val_auc: 0.9058\n",
            "Epoch 50/100\n",
            "51/52 [============================>.] - ETA: 0s - loss: 2.2322e-04 - accuracy: 1.0000 - auc: 1.0000\n",
            "Epoch 00050: loss did not improve from 0.00000\n",
            "52/52 [==============================] - 8s 149ms/step - loss: 2.2308e-04 - accuracy: 1.0000 - auc: 1.0000 - val_loss: 1.3407 - val_accuracy: 0.8846 - val_auc: 0.9028\n",
            "Epoch 51/100\n",
            "51/52 [============================>.] - ETA: 0s - loss: 2.5332e-06 - accuracy: 1.0000 - auc: 1.0000\n",
            "Epoch 00051: loss did not improve from 0.00000\n",
            "52/52 [==============================] - 8s 149ms/step - loss: 2.5316e-06 - accuracy: 1.0000 - auc: 1.0000 - val_loss: 1.3259 - val_accuracy: 0.8846 - val_auc: 0.9030\n",
            "Epoch 52/100\n",
            "51/52 [============================>.] - ETA: 0s - loss: 1.6313e-06 - accuracy: 1.0000 - auc: 1.0000\n",
            "Epoch 00052: loss did not improve from 0.00000\n",
            "52/52 [==============================] - 8s 150ms/step - loss: 1.6303e-06 - accuracy: 1.0000 - auc: 1.0000 - val_loss: 1.3267 - val_accuracy: 0.8901 - val_auc: 0.9127\n",
            "Epoch 53/100\n",
            "51/52 [============================>.] - ETA: 0s - loss: 1.9912e-04 - accuracy: 1.0000 - auc: 1.0000\n",
            "Epoch 00053: loss did not improve from 0.00000\n",
            "52/52 [==============================] - 8s 148ms/step - loss: 1.9900e-04 - accuracy: 1.0000 - auc: 1.0000 - val_loss: 1.3316 - val_accuracy: 0.8901 - val_auc: 0.9074\n",
            "Epoch 54/100\n",
            "51/52 [============================>.] - ETA: 0s - loss: 1.5597e-06 - accuracy: 1.0000 - auc: 1.0000\n",
            "Epoch 00054: loss did not improve from 0.00000\n",
            "52/52 [==============================] - 8s 149ms/step - loss: 1.5587e-06 - accuracy: 1.0000 - auc: 1.0000 - val_loss: 1.3296 - val_accuracy: 0.9011 - val_auc: 0.9086\n",
            "Epoch 55/100\n",
            "51/52 [============================>.] - ETA: 0s - loss: 1.8857e-04 - accuracy: 1.0000 - auc: 1.0000\n",
            "Epoch 00055: loss did not improve from 0.00000\n",
            "52/52 [==============================] - 8s 148ms/step - loss: 1.8846e-04 - accuracy: 1.0000 - auc: 1.0000 - val_loss: 1.3192 - val_accuracy: 0.8956 - val_auc: 0.9084\n",
            "Epoch 56/100\n",
            "51/52 [============================>.] - ETA: 0s - loss: 2.6486e-05 - accuracy: 1.0000 - auc: 1.0000\n",
            "Epoch 00056: loss did not improve from 0.00000\n",
            "52/52 [==============================] - 8s 149ms/step - loss: 2.6470e-05 - accuracy: 1.0000 - auc: 1.0000 - val_loss: 1.3274 - val_accuracy: 0.8956 - val_auc: 0.9079\n",
            "Epoch 57/100\n",
            "51/52 [============================>.] - ETA: 0s - loss: 2.9093e-06 - accuracy: 1.0000 - auc: 1.0000\n",
            "Epoch 00057: loss did not improve from 0.00000\n",
            "52/52 [==============================] - 8s 148ms/step - loss: 2.9076e-06 - accuracy: 1.0000 - auc: 1.0000 - val_loss: 1.3361 - val_accuracy: 0.8956 - val_auc: 0.9083\n",
            "Epoch 58/100\n",
            "51/52 [============================>.] - ETA: 0s - loss: 7.8087e-08 - accuracy: 1.0000 - auc: 1.0000\n",
            "Epoch 00058: loss did not improve from 0.00000\n",
            "52/52 [==============================] - 8s 147ms/step - loss: 7.8039e-08 - accuracy: 1.0000 - auc: 1.0000 - val_loss: 1.3358 - val_accuracy: 0.8956 - val_auc: 0.9081\n",
            "Epoch 59/100\n",
            "51/52 [============================>.] - ETA: 0s - loss: 9.6785e-10 - accuracy: 1.0000 - auc: 1.0000\n",
            "Epoch 00059: loss improved from 0.00000 to 0.00000, saving model to ./\n",
            "INFO:tensorflow:Assets written to: ./assets\n",
            "52/52 [==============================] - 36s 692ms/step - loss: 9.6725e-10 - accuracy: 1.0000 - auc: 1.0000 - val_loss: 1.3345 - val_accuracy: 0.8956 - val_auc: 0.9081\n",
            "Epoch 60/100\n",
            "51/52 [============================>.] - ETA: 0s - loss: 0.0032 - accuracy: 0.9994 - auc: 1.0000\n",
            "Epoch 00060: loss did not improve from 0.00000\n",
            "52/52 [==============================] - 8s 149ms/step - loss: 0.0032 - accuracy: 0.9994 - auc: 1.0000 - val_loss: 1.7144 - val_accuracy: 0.8736 - val_auc: 0.8778\n",
            "Epoch 61/100\n",
            "51/52 [============================>.] - ETA: 0s - loss: 1.5665e-04 - accuracy: 1.0000 - auc: 1.0000\n",
            "Epoch 00061: loss did not improve from 0.00000\n",
            "52/52 [==============================] - 8s 146ms/step - loss: 1.5655e-04 - accuracy: 1.0000 - auc: 1.0000 - val_loss: 1.3447 - val_accuracy: 0.8956 - val_auc: 0.9076\n",
            "Epoch 62/100\n",
            "51/52 [============================>.] - ETA: 0s - loss: 2.3251e-04 - accuracy: 1.0000 - auc: 1.0000\n",
            "Epoch 00062: loss did not improve from 0.00000\n",
            "52/52 [==============================] - 8s 148ms/step - loss: 2.3237e-04 - accuracy: 1.0000 - auc: 1.0000 - val_loss: 1.4870 - val_accuracy: 0.9011 - val_auc: 0.8984\n",
            "Epoch 63/100\n",
            "51/52 [============================>.] - ETA: 0s - loss: 2.0679e-07 - accuracy: 1.0000 - auc: 1.0000\n",
            "Epoch 00063: loss did not improve from 0.00000\n",
            "52/52 [==============================] - 8s 149ms/step - loss: 2.0666e-07 - accuracy: 1.0000 - auc: 1.0000 - val_loss: 1.4344 - val_accuracy: 0.8956 - val_auc: 0.8987\n",
            "Epoch 64/100\n",
            "51/52 [============================>.] - ETA: 0s - loss: 9.9699e-04 - accuracy: 0.9988 - auc: 1.0000\n",
            "Epoch 00064: loss did not improve from 0.00000\n",
            "52/52 [==============================] - 8s 149ms/step - loss: 0.0104 - accuracy: 0.9982 - auc: 0.9994 - val_loss: 1.3298 - val_accuracy: 0.8956 - val_auc: 0.8978\n",
            "Epoch 65/100\n",
            "51/52 [============================>.] - ETA: 0s - loss: 2.7027e-09 - accuracy: 1.0000 - auc: 1.0000\n",
            "Epoch 00065: loss did not improve from 0.00000\n",
            "52/52 [==============================] - 8s 147ms/step - loss: 2.7010e-09 - accuracy: 1.0000 - auc: 1.0000 - val_loss: 1.2400 - val_accuracy: 0.8901 - val_auc: 0.9174\n",
            "Epoch 66/100\n",
            "51/52 [============================>.] - ETA: 0s - loss: 7.4871e-10 - accuracy: 1.0000 - auc: 1.0000\n",
            "Epoch 00066: loss improved from 0.00000 to 0.00000, saving model to ./\n",
            "INFO:tensorflow:Assets written to: ./assets\n",
            "52/52 [==============================] - 41s 790ms/step - loss: 7.4825e-10 - accuracy: 1.0000 - auc: 1.0000 - val_loss: 1.2465 - val_accuracy: 0.9011 - val_auc: 0.9133\n",
            "Epoch 67/100\n",
            "51/52 [============================>.] - ETA: 0s - loss: 0.0017 - accuracy: 0.9994 - auc: 1.0000\n",
            "Epoch 00067: loss did not improve from 0.00000\n",
            "52/52 [==============================] - 8s 149ms/step - loss: 0.0017 - accuracy: 0.9994 - auc: 1.0000 - val_loss: 1.5186 - val_accuracy: 0.8956 - val_auc: 0.8939\n",
            "Epoch 68/100\n",
            "51/52 [============================>.] - ETA: 0s - loss: 1.8661e-07 - accuracy: 1.0000 - auc: 1.0000\n",
            "Epoch 00068: loss did not improve from 0.00000\n",
            "52/52 [==============================] - 8s 150ms/step - loss: 1.8650e-07 - accuracy: 1.0000 - auc: 1.0000 - val_loss: 1.4770 - val_accuracy: 0.8956 - val_auc: 0.8939\n",
            "Epoch 69/100\n",
            "51/52 [============================>.] - ETA: 0s - loss: 6.1488e-08 - accuracy: 1.0000 - auc: 1.0000\n",
            "Epoch 00069: loss did not improve from 0.00000\n",
            "52/52 [==============================] - 8s 149ms/step - loss: 6.1450e-08 - accuracy: 1.0000 - auc: 1.0000 - val_loss: 1.4376 - val_accuracy: 0.8956 - val_auc: 0.8939\n",
            "Epoch 70/100\n",
            "51/52 [============================>.] - ETA: 0s - loss: 1.0697e-04 - accuracy: 1.0000 - auc: 1.0000\n",
            "Epoch 00070: loss did not improve from 0.00000\n",
            "52/52 [==============================] - 8s 149ms/step - loss: 1.0690e-04 - accuracy: 1.0000 - auc: 1.0000 - val_loss: 1.4023 - val_accuracy: 0.8956 - val_auc: 0.9037\n",
            "Epoch 71/100\n",
            "51/52 [============================>.] - ETA: 0s - loss: 4.1959e-04 - accuracy: 1.0000 - auc: 1.0000\n",
            "Epoch 00071: loss did not improve from 0.00000\n",
            "52/52 [==============================] - 8s 150ms/step - loss: 4.1933e-04 - accuracy: 1.0000 - auc: 1.0000 - val_loss: 1.2962 - val_accuracy: 0.8846 - val_auc: 0.8973\n",
            "Epoch 72/100\n",
            "51/52 [============================>.] - ETA: 0s - loss: 5.0671e-04 - accuracy: 0.9994 - auc: 1.0000\n",
            "Epoch 00072: loss did not improve from 0.00000\n",
            "52/52 [==============================] - 8s 149ms/step - loss: 5.0640e-04 - accuracy: 0.9994 - auc: 1.0000 - val_loss: 1.3752 - val_accuracy: 0.8956 - val_auc: 0.9043\n",
            "Epoch 73/100\n",
            "51/52 [============================>.] - ETA: 0s - loss: 0.0080 - accuracy: 0.9994 - auc: 0.9994\n",
            "Epoch 00073: loss did not improve from 0.00000\n",
            "52/52 [==============================] - 8s 147ms/step - loss: 0.0080 - accuracy: 0.9994 - auc: 0.9994 - val_loss: 2.1798 - val_accuracy: 0.8571 - val_auc: 0.8571\n",
            "Epoch 74/100\n",
            "51/52 [============================>.] - ETA: 0s - loss: 0.0011 - accuracy: 0.9994 - auc: 1.0000\n",
            "Epoch 00074: loss did not improve from 0.00000\n",
            "52/52 [==============================] - 8s 149ms/step - loss: 0.0011 - accuracy: 0.9994 - auc: 1.0000 - val_loss: 2.0575 - val_accuracy: 0.8571 - val_auc: 0.8611\n",
            "Epoch 75/100\n",
            "51/52 [============================>.] - ETA: 0s - loss: 1.3477e-08 - accuracy: 1.0000 - auc: 1.0000\n",
            "Epoch 00075: loss did not improve from 0.00000\n",
            "52/52 [==============================] - 8s 150ms/step - loss: 0.0094 - accuracy: 0.9994 - auc: 0.9994 - val_loss: 2.1553 - val_accuracy: 0.8571 - val_auc: 0.8571\n",
            "Epoch 76/100\n",
            "51/52 [============================>.] - ETA: 0s - loss: 8.1680e-04 - accuracy: 0.9994 - auc: 1.0000\n",
            "Epoch 00076: loss did not improve from 0.00000\n",
            "52/52 [==============================] - 8s 149ms/step - loss: 8.1630e-04 - accuracy: 0.9994 - auc: 1.0000 - val_loss: 1.4546 - val_accuracy: 0.8516 - val_auc: 0.8849\n",
            "Epoch 77/100\n",
            "51/52 [============================>.] - ETA: 0s - loss: 0.0022 - accuracy: 0.9994 - auc: 1.0000\n",
            "Epoch 00077: loss did not improve from 0.00000\n",
            "52/52 [==============================] - 8s 149ms/step - loss: 0.0022 - accuracy: 0.9994 - auc: 1.0000 - val_loss: 2.1848 - val_accuracy: 0.8571 - val_auc: 0.8571\n",
            "Epoch 78/100\n",
            "51/52 [============================>.] - ETA: 0s - loss: 2.1391e-04 - accuracy: 1.0000 - auc: 1.0000\n",
            "Epoch 00078: loss did not improve from 0.00000\n",
            "52/52 [==============================] - 8s 149ms/step - loss: 2.1378e-04 - accuracy: 1.0000 - auc: 1.0000 - val_loss: 1.9789 - val_accuracy: 0.8626 - val_auc: 0.8652\n",
            "Epoch 79/100\n",
            "51/52 [============================>.] - ETA: 0s - loss: 1.5198e-06 - accuracy: 1.0000 - auc: 1.0000\n",
            "Epoch 00079: loss did not improve from 0.00000\n",
            "52/52 [==============================] - 8s 150ms/step - loss: 1.5188e-06 - accuracy: 1.0000 - auc: 1.0000 - val_loss: 1.2789 - val_accuracy: 0.8956 - val_auc: 0.9082\n",
            "Epoch 80/100\n",
            "51/52 [============================>.] - ETA: 0s - loss: 1.1719e-06 - accuracy: 1.0000 - auc: 1.0000\n",
            "Epoch 00080: loss did not improve from 0.00000\n",
            "52/52 [==============================] - 8s 149ms/step - loss: 1.1712e-06 - accuracy: 1.0000 - auc: 1.0000 - val_loss: 1.2107 - val_accuracy: 0.9176 - val_auc: 0.9149\n",
            "Epoch 81/100\n",
            "51/52 [============================>.] - ETA: 0s - loss: 4.9606e-06 - accuracy: 1.0000 - auc: 1.0000\n",
            "Epoch 00081: loss did not improve from 0.00000\n",
            "52/52 [==============================] - 8s 147ms/step - loss: 4.9576e-06 - accuracy: 1.0000 - auc: 1.0000 - val_loss: 1.2287 - val_accuracy: 0.9011 - val_auc: 0.9093\n",
            "Epoch 82/100\n",
            "51/52 [============================>.] - ETA: 0s - loss: 1.2765e-08 - accuracy: 1.0000 - auc: 1.0000\n",
            "Epoch 00082: loss did not improve from 0.00000\n",
            "52/52 [==============================] - 8s 147ms/step - loss: 0.0094 - accuracy: 0.9994 - auc: 0.9994 - val_loss: 1.2302 - val_accuracy: 0.9011 - val_auc: 0.9083\n",
            "Epoch 83/100\n",
            "51/52 [============================>.] - ETA: 0s - loss: 0.0077 - accuracy: 0.9994 - auc: 0.9994\n",
            "Epoch 00083: loss did not improve from 0.00000\n",
            "52/52 [==============================] - 8s 148ms/step - loss: 0.0077 - accuracy: 0.9994 - auc: 0.9994 - val_loss: 1.4289 - val_accuracy: 0.8736 - val_auc: 0.8907\n",
            "Epoch 84/100\n",
            "51/52 [============================>.] - ETA: 0s - loss: 3.8440e-04 - accuracy: 1.0000 - auc: 1.0000\n",
            "Epoch 00084: loss did not improve from 0.00000\n",
            "52/52 [==============================] - 8s 149ms/step - loss: 0.0098 - accuracy: 0.9994 - auc: 0.9994 - val_loss: 1.2504 - val_accuracy: 0.8846 - val_auc: 0.8959\n",
            "Epoch 85/100\n",
            "51/52 [============================>.] - ETA: 0s - loss: 3.7527e-08 - accuracy: 1.0000 - auc: 1.0000\n",
            "Epoch 00085: loss did not improve from 0.00000\n",
            "52/52 [==============================] - 8s 146ms/step - loss: 3.7504e-08 - accuracy: 1.0000 - auc: 1.0000 - val_loss: 1.1693 - val_accuracy: 0.8956 - val_auc: 0.9125\n",
            "Epoch 86/100\n",
            "51/52 [============================>.] - ETA: 0s - loss: 0.0069 - accuracy: 0.9994 - auc: 0.9994\n",
            "Epoch 00086: loss did not improve from 0.00000\n",
            "52/52 [==============================] - 8s 147ms/step - loss: 0.0069 - accuracy: 0.9994 - auc: 0.9994 - val_loss: 2.1910 - val_accuracy: 0.8571 - val_auc: 0.8571\n",
            "Epoch 87/100\n",
            "51/52 [============================>.] - ETA: 0s - loss: 0.0071 - accuracy: 0.9994 - auc: 0.9994\n",
            "Epoch 00087: loss did not improve from 0.00000\n",
            "52/52 [==============================] - 8s 146ms/step - loss: 0.0071 - accuracy: 0.9994 - auc: 0.9994 - val_loss: 2.1910 - val_accuracy: 0.8571 - val_auc: 0.8571\n",
            "Epoch 88/100\n",
            "51/52 [============================>.] - ETA: 0s - loss: 1.0592e-04 - accuracy: 1.0000 - auc: 1.0000\n",
            "Epoch 00088: loss did not improve from 0.00000\n",
            "52/52 [==============================] - 8s 148ms/step - loss: 1.0586e-04 - accuracy: 1.0000 - auc: 1.0000 - val_loss: 1.9282 - val_accuracy: 0.8681 - val_auc: 0.8667\n",
            "Epoch 89/100\n",
            "51/52 [============================>.] - ETA: 0s - loss: 6.5801e-05 - accuracy: 1.0000 - auc: 1.0000\n",
            "Epoch 00089: loss did not improve from 0.00000\n",
            "52/52 [==============================] - 8s 149ms/step - loss: 0.0095 - accuracy: 0.9994 - auc: 0.9994 - val_loss: 1.2308 - val_accuracy: 0.8846 - val_auc: 0.8998\n",
            "Epoch 90/100\n",
            "51/52 [============================>.] - ETA: 0s - loss: 1.0234e-04 - accuracy: 1.0000 - auc: 1.0000\n",
            "Epoch 00090: loss did not improve from 0.00000\n",
            "52/52 [==============================] - 8s 149ms/step - loss: 1.0227e-04 - accuracy: 1.0000 - auc: 1.0000 - val_loss: 1.1873 - val_accuracy: 0.8791 - val_auc: 0.9100\n",
            "Epoch 91/100\n",
            "51/52 [============================>.] - ETA: 0s - loss: 6.3021e-08 - accuracy: 1.0000 - auc: 1.0000\n",
            "Epoch 00091: loss did not improve from 0.00000\n",
            "52/52 [==============================] - 8s 146ms/step - loss: 0.0094 - accuracy: 0.9994 - auc: 0.9994 - val_loss: 1.1318 - val_accuracy: 0.9011 - val_auc: 0.9241\n",
            "Epoch 92/100\n",
            "51/52 [============================>.] - ETA: 0s - loss: 1.3875e-04 - accuracy: 1.0000 - auc: 1.0000\n",
            "Epoch 00092: loss did not improve from 0.00000\n",
            "52/52 [==============================] - 8s 147ms/step - loss: 0.0051 - accuracy: 0.9994 - auc: 0.9994 - val_loss: 1.1590 - val_accuracy: 0.8736 - val_auc: 0.9091\n",
            "Epoch 93/100\n",
            "51/52 [============================>.] - ETA: 0s - loss: 0.0216 - accuracy: 0.9957 - auc: 0.9988\n",
            "Epoch 00093: loss did not improve from 0.00000\n",
            "52/52 [==============================] - 8s 149ms/step - loss: 0.0216 - accuracy: 0.9957 - auc: 0.9988 - val_loss: 2.1910 - val_accuracy: 0.8571 - val_auc: 0.8571\n",
            "Epoch 94/100\n",
            "51/52 [============================>.] - ETA: 0s - loss: 0.0189 - accuracy: 0.9982 - auc: 0.9982\n",
            "Epoch 00094: loss did not improve from 0.00000\n",
            "52/52 [==============================] - 8s 149ms/step - loss: 0.0189 - accuracy: 0.9982 - auc: 0.9982 - val_loss: 2.1910 - val_accuracy: 0.8571 - val_auc: 0.8571\n",
            "Epoch 95/100\n",
            "51/52 [============================>.] - ETA: 0s - loss: 0.0068 - accuracy: 0.9982 - auc: 0.9994\n",
            "Epoch 00095: loss did not improve from 0.00000\n",
            "52/52 [==============================] - 8s 148ms/step - loss: 0.0068 - accuracy: 0.9982 - auc: 0.9994 - val_loss: 1.9054 - val_accuracy: 0.8626 - val_auc: 0.8713\n",
            "Epoch 96/100\n",
            "51/52 [============================>.] - ETA: 0s - loss: 0.0151 - accuracy: 0.9975 - auc: 0.9994\n",
            "Epoch 00096: loss did not improve from 0.00000\n",
            "52/52 [==============================] - 8s 146ms/step - loss: 0.0150 - accuracy: 0.9976 - auc: 0.9994 - val_loss: 1.8224 - val_accuracy: 0.8571 - val_auc: 0.8684\n",
            "Epoch 97/100\n",
            "51/52 [============================>.] - ETA: 0s - loss: 0.0103 - accuracy: 0.9988 - auc: 0.9994\n",
            "Epoch 00097: loss did not improve from 0.00000\n",
            "52/52 [==============================] - 8s 148ms/step - loss: 0.0103 - accuracy: 0.9988 - auc: 0.9994 - val_loss: 1.9013 - val_accuracy: 0.8571 - val_auc: 0.8650\n",
            "Epoch 98/100\n",
            "51/52 [============================>.] - ETA: 0s - loss: 0.0176 - accuracy: 0.9988 - auc: 0.9988\n",
            "Epoch 00098: loss did not improve from 0.00000\n",
            "52/52 [==============================] - 8s 147ms/step - loss: 0.0176 - accuracy: 0.9988 - auc: 0.9988 - val_loss: 1.5898 - val_accuracy: 0.8352 - val_auc: 0.8734\n",
            "Epoch 99/100\n",
            "51/52 [============================>.] - ETA: 0s - loss: 0.0053 - accuracy: 0.9988 - auc: 1.0000\n",
            "Epoch 00099: loss did not improve from 0.00000\n",
            "52/52 [==============================] - 8s 148ms/step - loss: 0.0147 - accuracy: 0.9982 - auc: 0.9994 - val_loss: 1.4794 - val_accuracy: 0.8571 - val_auc: 0.8847\n",
            "Epoch 100/100\n",
            "51/52 [============================>.] - ETA: 0s - loss: 0.0034 - accuracy: 0.9994 - auc: 0.9994\n",
            "Epoch 00100: loss did not improve from 0.00000\n",
            "52/52 [==============================] - 8s 149ms/step - loss: 0.0034 - accuracy: 0.9994 - auc: 0.9994 - val_loss: 1.4315 - val_accuracy: 0.8626 - val_auc: 0.8947\n"
          ],
          "name": "stdout"
        }
      ]
    },
    {
      "cell_type": "code",
      "metadata": {
        "colab": {
          "base_uri": "https://localhost:8080/"
        },
        "id": "dEMoh3YfFl2D",
        "outputId": "33f9bf46-d7fa-4d7a-8cb0-47d18c6336c2"
      },
      "source": [
        "# Teacher Model performance (EfficientNet01)\n",
        "model.evaluate(X_test,Y_test)"
      ],
      "execution_count": null,
      "outputs": [
        {
          "output_type": "stream",
          "text": [
            "7/7 [==============================] - 0s 21ms/step - loss: 0.9448 - accuracy: 0.9010 - auc: 0.9265\n"
          ],
          "name": "stdout"
        },
        {
          "output_type": "execute_result",
          "data": {
            "text/plain": [
              "[0.9448338150978088, 0.9009901285171509, 0.9265023469924927]"
            ]
          },
          "metadata": {
            "tags": []
          },
          "execution_count": 25
        }
      ]
    },
    {
      "cell_type": "code",
      "metadata": {
        "id": "G9rnnmkJKDMR"
      },
      "source": [
        "from tensorflow.keras.applications import MobileNetV2"
      ],
      "execution_count": null,
      "outputs": []
    },
    {
      "cell_type": "code",
      "metadata": {
        "colab": {
          "base_uri": "https://localhost:8080/"
        },
        "id": "bNQ0_Zq9nDzP",
        "outputId": "ab68719d-1a8b-4808-9979-a7a178dfd37f"
      },
      "source": [
        "# Distillation Model (Student model)\n",
        "\n",
        "model = load_model('saved_model/EfficientNetB0.h5') \n",
        "predict = model.predict_classes(X_train)\n",
        "\n",
        "small_model = MobileNetV2(\n",
        "    include_top=False,\n",
        "    weights='imagenet',\n",
        "    input_tensor=None,\n",
        "    input_shape=(224,224,3),\n",
        "    pooling='max',\n",
        ")\n",
        "model_small = Sequential()\n",
        "model_small.add(small_model)\n",
        "model_small.add(Flatten())\n",
        "model_small.add(Dense(256, activation = 'relu'))\n",
        "model_small.add(Dropout(0.5))\n",
        "model_small.add(Dense(num_classes,activation = 'softmax'))\n",
        "\n",
        "model_small.compile(loss='binary_crossentropy',optimizer=optimizers.Adam(lr=0.001, beta_1=0.9, beta_2=0.999, epsilon=None, decay=0.0001/epochs, amsgrad=False),metrics=['accuracy'])\n",
        "checkpointer = ModelCheckpoint(filepath=\"./\", monitor='loss', verbose=1, save_best_only=True)\n",
        "early_stopping_callback = EarlyStopping(monitor='loss', patience=100)"
      ],
      "execution_count": null,
      "outputs": [
        {
          "output_type": "stream",
          "text": [
            "WARNING:tensorflow:From <ipython-input-27-cd0629d149ca>:4: Sequential.predict_classes (from tensorflow.python.keras.engine.sequential) is deprecated and will be removed after 2021-01-01.\n",
            "Instructions for updating:\n",
            "Please use instead:* `np.argmax(model.predict(x), axis=-1)`,   if your model does multi-class classification   (e.g. if it uses a `softmax` last-layer activation).* `(model.predict(x) > 0.5).astype(\"int32\")`,   if your model does binary classification   (e.g. if it uses a `sigmoid` last-layer activation).\n"
          ],
          "name": "stdout"
        }
      ]
    },
    {
      "cell_type": "code",
      "metadata": {
        "colab": {
          "base_uri": "https://localhost:8080/"
        },
        "id": "ANIXpm8eKNxE",
        "outputId": "6c848966-7a42-43c5-ca21-3f6d36fc1ceb"
      },
      "source": [
        "model_small.summary()"
      ],
      "execution_count": null,
      "outputs": [
        {
          "output_type": "stream",
          "text": [
            "Model: \"sequential_10\"\n",
            "_________________________________________________________________\n",
            "Layer (type)                 Output Shape              Param #   \n",
            "=================================================================\n",
            "mobilenetv2_1.00_224 (Functi (None, 1280)              2257984   \n",
            "_________________________________________________________________\n",
            "flatten_10 (Flatten)         (None, 1280)              0         \n",
            "_________________________________________________________________\n",
            "dense_20 (Dense)             (None, 256)               327936    \n",
            "_________________________________________________________________\n",
            "dropout_10 (Dropout)         (None, 256)               0         \n",
            "_________________________________________________________________\n",
            "dense_21 (Dense)             (None, 2)                 514       \n",
            "=================================================================\n",
            "Total params: 2,586,434\n",
            "Trainable params: 2,552,322\n",
            "Non-trainable params: 34,112\n",
            "_________________________________________________________________\n"
          ],
          "name": "stdout"
        }
      ]
    },
    {
      "cell_type": "code",
      "metadata": {
        "colab": {
          "base_uri": "https://localhost:8080/"
        },
        "id": "OymNfp-IzOL1",
        "outputId": "a3bdc069-f28f-4637-f9fe-0ab2dfaa660e"
      },
      "source": [
        "his = model_small.fit(X_train, predict, validation_split=0.2, epochs=5, batch_size=10, verbose=1, callbacks=[early_stopping_callback,checkpointer])\n",
        "model_small.save('saved_model/MobileNetV2.h5')"
      ],
      "execution_count": null,
      "outputs": [
        {
          "output_type": "stream",
          "text": [
            "Epoch 1/5\n",
            "145/146 [============================>.] - ETA: 0s - loss: 0.6931 - accuracy: 0.4469\n",
            "Epoch 00001: loss did not improve from 0.69315\n",
            "146/146 [==============================] - 7s 46ms/step - loss: 0.6931 - accuracy: 0.4463 - val_loss: 0.6931 - val_accuracy: 0.2397\n",
            "Epoch 2/5\n",
            "145/146 [============================>.] - ETA: 0s - loss: 0.6931 - accuracy: 0.5028\n",
            "Epoch 00002: loss did not improve from 0.69315\n",
            "146/146 [==============================] - 7s 45ms/step - loss: 0.6931 - accuracy: 0.5034 - val_loss: 0.6931 - val_accuracy: 0.7824\n",
            "Epoch 3/5\n",
            "145/146 [============================>.] - ETA: 0s - loss: 0.6931 - accuracy: 0.4483\n",
            "Epoch 00003: loss did not improve from 0.69315\n",
            "146/146 [==============================] - 7s 45ms/step - loss: 0.6931 - accuracy: 0.4483 - val_loss: 0.6931 - val_accuracy: 0.1515\n",
            "Epoch 4/5\n",
            "146/146 [==============================] - ETA: 0s - loss: 0.6931 - accuracy: 0.5103\n",
            "Epoch 00004: loss did not improve from 0.69315\n",
            "146/146 [==============================] - 7s 45ms/step - loss: 0.6931 - accuracy: 0.5103 - val_loss: 0.6931 - val_accuracy: 0.6253\n",
            "Epoch 5/5\n",
            "146/146 [==============================] - ETA: 0s - loss: 0.6931 - accuracy: 0.5234\n",
            "Epoch 00005: loss did not improve from 0.69315\n",
            "146/146 [==============================] - 7s 45ms/step - loss: 0.6931 - accuracy: 0.5234 - val_loss: 0.6931 - val_accuracy: 0.8871\n"
          ],
          "name": "stdout"
        }
      ]
    }
  ]
}